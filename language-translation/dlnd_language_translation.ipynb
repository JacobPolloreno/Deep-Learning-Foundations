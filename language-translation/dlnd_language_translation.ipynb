{
 "cells": [
  {
   "cell_type": "markdown",
   "metadata": {
    "collapsed": true
   },
   "source": [
    "# Language Translation\n",
    "In this project, you’re going to take a peek into the realm of neural network machine translation.  You’ll be training a sequence to sequence model on a dataset of English and French sentences that can translate new sentences from English to French.\n",
    "## Get the Data\n",
    "Since translating the whole language of English to French will take lots of time to train, we have provided you with a small portion of the English corpus."
   ]
  },
  {
   "cell_type": "code",
   "execution_count": 1,
   "metadata": {
    "collapsed": true
   },
   "outputs": [],
   "source": [
    "\"\"\"\n",
    "DON'T MODIFY ANYTHING IN THIS CELL\n",
    "\"\"\"\n",
    "import helper\n",
    "import problem_unittests as tests\n",
    "\n",
    "source_path = 'data/small_vocab_en'\n",
    "target_path = 'data/small_vocab_fr'\n",
    "source_text = helper.load_data(source_path)\n",
    "target_text = helper.load_data(target_path)"
   ]
  },
  {
   "cell_type": "markdown",
   "metadata": {},
   "source": [
    "## Explore the Data\n",
    "Play around with view_sentence_range to view different parts of the data."
   ]
  },
  {
   "cell_type": "code",
   "execution_count": 57,
   "metadata": {},
   "outputs": [
    {
     "name": "stdout",
     "output_type": "stream",
     "text": [
      "Dataset Stats\n",
      "Roughly the number of unique words: 227\n",
      "Number of sentences: 137861\n",
      "Average number of words in a sentence: 13.225277634719028\n",
      "\n",
      "English sentences 20 to 30:\n",
      "china is usually pleasant during november , and it is never quiet in october .\n",
      "the united states is never nice during february , but it is sometimes pleasant in april .\n",
      "india is never busy during autumn , and it is mild in spring .\n",
      "paris is mild during summer , but it is usually busy in april .\n",
      "france is never cold during september , and it is snowy in october .\n",
      "california is never cold during may , and it is sometimes chilly in march .\n",
      "he dislikes lemons , grapes , and mangoes.\n",
      "their favorite fruit is the mango , but our favorite is the pear .\n",
      "france is sometimes quiet during may , and it is never chilly in august .\n",
      "paris is never pleasant during september , and it is beautiful in autumn .\n",
      "\n",
      "French sentences 20 to 30:\n",
      "chine est généralement agréable en novembre , et il est jamais tranquille en octobre .\n",
      "les états-unis est jamais agréable en février , mais il est parfois agréable en avril .\n",
      "l' inde est jamais occupé à l'automne , et il est doux au printemps .\n",
      "paris est doux pendant l' été , mais il est généralement occupé en avril .\n",
      "france ne fait jamais froid en septembre , et il est neigeux en octobre .\n",
      "californie ne fait jamais froid au mois de mai , et il est parfois frisquet en mars .\n",
      "il déteste les citrons , les raisins et les mangues .\n",
      "leur fruit préféré est la mangue , mais notre préféré est la poire .\n",
      "la france est parfois calme au mois de mai , et il est jamais froid en août .\n",
      "paris est jamais agréable en septembre , et il est beau à l' automne .\n"
     ]
    }
   ],
   "source": [
    "view_sentence_range = (20, 30)\n",
    "\n",
    "\"\"\"\n",
    "DON'T MODIFY ANYTHING IN THIS CELL\n",
    "\"\"\"\n",
    "import numpy as np\n",
    "\n",
    "print('Dataset Stats')\n",
    "print('Roughly the number of unique words: {}'.format(len({word: None for word in source_text.split()})))\n",
    "\n",
    "sentences = source_text.split('\\n')\n",
    "word_counts = [len(sentence.split()) for sentence in sentences]\n",
    "print('Number of sentences: {}'.format(len(sentences)))\n",
    "print('Average number of words in a sentence: {}'.format(np.average(word_counts)))\n",
    "\n",
    "print()\n",
    "print('English sentences {} to {}:'.format(*view_sentence_range))\n",
    "print('\\n'.join(source_text.split('\\n')[view_sentence_range[0]:view_sentence_range[1]]))\n",
    "print()\n",
    "print('French sentences {} to {}:'.format(*view_sentence_range))\n",
    "print('\\n'.join(target_text.split('\\n')[view_sentence_range[0]:view_sentence_range[1]]))"
   ]
  },
  {
   "cell_type": "markdown",
   "metadata": {},
   "source": [
    "## Implement Preprocessing Function\n",
    "### Text to Word Ids\n",
    "As you did with other RNNs, you must turn the text into a number so the computer can understand it. In the function `text_to_ids()`, you'll turn `source_text` and `target_text` from words to ids.  However, you need to add the `<EOS>` word id at the end of `target_text`.  This will help the neural network predict when the sentence should end.\n",
    "\n",
    "You can get the `<EOS>` word id by doing:\n",
    "```python\n",
    "target_vocab_to_int['<EOS>']\n",
    "```\n",
    "You can get other word ids using `source_vocab_to_int` and `target_vocab_to_int`."
   ]
  },
  {
   "cell_type": "code",
   "execution_count": 58,
   "metadata": {},
   "outputs": [
    {
     "name": "stdout",
     "output_type": "stream",
     "text": [
      "Tests Passed\n"
     ]
    }
   ],
   "source": [
    "def text_to_ids(source_text, target_text, source_vocab_to_int, target_vocab_to_int):\n",
    "    \"\"\"\n",
    "    Convert source and target text to proper word ids\n",
    "    :param source_text: String that contains all the source text.\n",
    "    :param target_text: String that contains all the target text.\n",
    "    :param source_vocab_to_int: Dictionary to go from the source words to an id\n",
    "    :param target_vocab_to_int: Dictionary to go from the target words to an id\n",
    "    :return: A tuple of lists (source_id_text, target_id_text)\n",
    "    \"\"\"\n",
    "    \n",
    "    source_vocab_ids = [[source_vocab_to_int.get(letter, source_vocab_to_int['<UNK>'])\n",
    "                         for letter in line.split(' ')] for line in source_text.split('\\n')]\n",
    "    \n",
    "    target_vocab_ids = [[target_vocab_to_int.get(letter, target_vocab_to_int['<UNK>'])\n",
    "                     for letter in line.split(' ')] + [target_vocab_to_int['<EOS>']] for line in target_text.split('\\n')]\n",
    "    \n",
    "    return source_vocab_ids, target_vocab_ids\n",
    "\n",
    "\"\"\"\n",
    "DON'T MODIFY ANYTHING IN THIS CELL THAT IS BELOW THIS LINE\n",
    "\"\"\"\n",
    "tests.test_text_to_ids(text_to_ids)"
   ]
  },
  {
   "cell_type": "markdown",
   "metadata": {},
   "source": [
    "### Preprocess all the data and save it\n",
    "Running the code cell below will preprocess all the data and save it to file."
   ]
  },
  {
   "cell_type": "code",
   "execution_count": 2,
   "metadata": {},
   "outputs": [
    {
     "ename": "NameError",
     "evalue": "name 'text_to_ids' is not defined",
     "output_type": "error",
     "traceback": [
      "\u001b[0;31m---------------------------------------------------------------------------\u001b[0m",
      "\u001b[0;31mNameError\u001b[0m                                 Traceback (most recent call last)",
      "\u001b[0;32m<ipython-input-2-611d137e6332>\u001b[0m in \u001b[0;36m<module>\u001b[0;34m()\u001b[0m\n\u001b[1;32m      2\u001b[0m \u001b[0mDON\u001b[0m\u001b[0;31m'\u001b[0m\u001b[0mT\u001b[0m \u001b[0mMODIFY\u001b[0m \u001b[0mANYTHING\u001b[0m \u001b[0mIN\u001b[0m \u001b[0mTHIS\u001b[0m \u001b[0mCELL\u001b[0m\u001b[0;34m\u001b[0m\u001b[0m\n\u001b[1;32m      3\u001b[0m \"\"\"\n\u001b[0;32m----> 4\u001b[0;31m \u001b[0mhelper\u001b[0m\u001b[0;34m.\u001b[0m\u001b[0mpreprocess_and_save_data\u001b[0m\u001b[0;34m(\u001b[0m\u001b[0msource_path\u001b[0m\u001b[0;34m,\u001b[0m \u001b[0mtarget_path\u001b[0m\u001b[0;34m,\u001b[0m \u001b[0mtext_to_ids\u001b[0m\u001b[0;34m)\u001b[0m\u001b[0;34m\u001b[0m\u001b[0m\n\u001b[0m",
      "\u001b[0;31mNameError\u001b[0m: name 'text_to_ids' is not defined"
     ]
    }
   ],
   "source": [
    "\"\"\"\n",
    "DON'T MODIFY ANYTHING IN THIS CELL\n",
    "\"\"\"\n",
    "helper.preprocess_and_save_data(source_path, target_path, text_to_ids)"
   ]
  },
  {
   "cell_type": "markdown",
   "metadata": {},
   "source": [
    "# Check Point\n",
    "This is your first checkpoint. If you ever decide to come back to this notebook or have to restart the notebook, you can start from here. The preprocessed data has been saved to disk."
   ]
  },
  {
   "cell_type": "code",
   "execution_count": 3,
   "metadata": {
    "collapsed": true
   },
   "outputs": [],
   "source": [
    "\"\"\"\n",
    "DON'T MODIFY ANYTHING IN THIS CELL\n",
    "\"\"\"\n",
    "import numpy as np\n",
    "import helper\n",
    "import problem_unittests as tests\n",
    "\n",
    "(source_int_text, target_int_text), (source_vocab_to_int, target_vocab_to_int), _ = helper.load_preprocess()"
   ]
  },
  {
   "cell_type": "markdown",
   "metadata": {},
   "source": [
    "### Check the Version of TensorFlow and Access to GPU\n",
    "This will check to make sure you have the correct version of TensorFlow and access to a GPU"
   ]
  },
  {
   "cell_type": "code",
   "execution_count": 4,
   "metadata": {},
   "outputs": [
    {
     "name": "stdout",
     "output_type": "stream",
     "text": [
      "TensorFlow Version: 1.2.0\n",
      "Default GPU Device: /gpu:0\n"
     ]
    }
   ],
   "source": [
    "\"\"\"\n",
    "DON'T MODIFY ANYTHING IN THIS CELL\n",
    "\"\"\"\n",
    "from distutils.version import LooseVersion\n",
    "import warnings\n",
    "import tensorflow as tf\n",
    "from tensorflow.python.layers.core import Dense\n",
    "\n",
    "# Check TensorFlow Version\n",
    "assert LooseVersion(tf.__version__) >= LooseVersion('1.1'), 'Please use TensorFlow version 1.1 or newer'\n",
    "print('TensorFlow Version: {}'.format(tf.__version__))\n",
    "\n",
    "# Check for a GPU\n",
    "if not tf.test.gpu_device_name():\n",
    "    warnings.warn('No GPU found. Please use a GPU to train your neural network.')\n",
    "else:\n",
    "    print('Default GPU Device: {}'.format(tf.test.gpu_device_name()))"
   ]
  },
  {
   "cell_type": "markdown",
   "metadata": {},
   "source": [
    "## Build the Neural Network\n",
    "You'll build the components necessary to build a Sequence-to-Sequence model by implementing the following functions below:\n",
    "- `model_inputs`\n",
    "- `process_decoder_input`\n",
    "- `encoding_layer`\n",
    "- `decoding_layer_train`\n",
    "- `decoding_layer_infer`\n",
    "- `decoding_layer`\n",
    "- `seq2seq_model`\n",
    "\n",
    "### Input\n",
    "Implement the `model_inputs()` function to create TF Placeholders for the Neural Network. It should create the following placeholders:\n",
    "\n",
    "- Input text placeholder named \"input\" using the TF Placeholder name parameter with rank 2.\n",
    "- Targets placeholder with rank 2.\n",
    "- Learning rate placeholder with rank 0.\n",
    "- Keep probability placeholder named \"keep_prob\" using the TF Placeholder name parameter with rank 0.\n",
    "- Target sequence length placeholder named \"target_sequence_length\" with rank 1\n",
    "- Max target sequence length tensor named \"max_target_len\" getting its value from applying tf.reduce_max on the target_sequence_length placeholder. Rank 0.\n",
    "- Source sequence length placeholder named \"source_sequence_length\" with rank 1\n",
    "\n",
    "Return the placeholders in the following the tuple (input, targets, learning rate, keep probability, target sequence length, max target sequence length, source sequence length)"
   ]
  },
  {
   "cell_type": "code",
   "execution_count": 5,
   "metadata": {},
   "outputs": [
    {
     "name": "stdout",
     "output_type": "stream",
     "text": [
      "ERROR:tensorflow:==================================\n",
      "Object was never used (type <class 'tensorflow.python.framework.ops.Operation'>):\n",
      "<tf.Operation 'assert_rank_2/Assert/Assert' type=Assert>\n",
      "If you want to mark it as used call its \"mark_used()\" method.\n",
      "It was originally created here:\n",
      "['File \"/home/dreamsmith/anaconda3/envs/py3/lib/python3.6/runpy.py\", line 193, in _run_module_as_main\\n    \"__main__\", mod_spec)', 'File \"/home/dreamsmith/anaconda3/envs/py3/lib/python3.6/runpy.py\", line 85, in _run_code\\n    exec(code, run_globals)', 'File \"/home/dreamsmith/anaconda3/envs/py3/lib/python3.6/site-packages/ipykernel/__main__.py\", line 3, in <module>\\n    app.launch_new_instance()', 'File \"/home/dreamsmith/anaconda3/envs/py3/lib/python3.6/site-packages/traitlets/config/application.py\", line 658, in launch_instance\\n    app.start()', 'File \"/home/dreamsmith/anaconda3/envs/py3/lib/python3.6/site-packages/ipykernel/kernelapp.py\", line 477, in start\\n    ioloop.IOLoop.instance().start()', 'File \"/home/dreamsmith/anaconda3/envs/py3/lib/python3.6/site-packages/zmq/eventloop/ioloop.py\", line 177, in start\\n    super(ZMQIOLoop, self).start()', 'File \"/home/dreamsmith/anaconda3/envs/py3/lib/python3.6/site-packages/tornado/ioloop.py\", line 888, in start\\n    handler_func(fd_obj, events)', 'File \"/home/dreamsmith/anaconda3/envs/py3/lib/python3.6/site-packages/tornado/stack_context.py\", line 277, in null_wrapper\\n    return fn(*args, **kwargs)', 'File \"/home/dreamsmith/anaconda3/envs/py3/lib/python3.6/site-packages/zmq/eventloop/zmqstream.py\", line 440, in _handle_events\\n    self._handle_recv()', 'File \"/home/dreamsmith/anaconda3/envs/py3/lib/python3.6/site-packages/zmq/eventloop/zmqstream.py\", line 472, in _handle_recv\\n    self._run_callback(callback, msg)', 'File \"/home/dreamsmith/anaconda3/envs/py3/lib/python3.6/site-packages/zmq/eventloop/zmqstream.py\", line 414, in _run_callback\\n    callback(*args, **kwargs)', 'File \"/home/dreamsmith/anaconda3/envs/py3/lib/python3.6/site-packages/tornado/stack_context.py\", line 277, in null_wrapper\\n    return fn(*args, **kwargs)', 'File \"/home/dreamsmith/anaconda3/envs/py3/lib/python3.6/site-packages/ipykernel/kernelbase.py\", line 283, in dispatcher\\n    return self.dispatch_shell(stream, msg)', 'File \"/home/dreamsmith/anaconda3/envs/py3/lib/python3.6/site-packages/ipykernel/kernelbase.py\", line 235, in dispatch_shell\\n    handler(stream, idents, msg)', 'File \"/home/dreamsmith/anaconda3/envs/py3/lib/python3.6/site-packages/ipykernel/kernelbase.py\", line 399, in execute_request\\n    user_expressions, allow_stdin)', 'File \"/home/dreamsmith/anaconda3/envs/py3/lib/python3.6/site-packages/ipykernel/ipkernel.py\", line 196, in do_execute\\n    res = shell.run_cell(code, store_history=store_history, silent=silent)', 'File \"/home/dreamsmith/anaconda3/envs/py3/lib/python3.6/site-packages/ipykernel/zmqshell.py\", line 533, in run_cell\\n    return super(ZMQInteractiveShell, self).run_cell(*args, **kwargs)', 'File \"/home/dreamsmith/anaconda3/envs/py3/lib/python3.6/site-packages/IPython/core/interactiveshell.py\", line 2698, in run_cell\\n    interactivity=interactivity, compiler=compiler, result=result)', 'File \"/home/dreamsmith/anaconda3/envs/py3/lib/python3.6/site-packages/IPython/core/interactiveshell.py\", line 2808, in run_ast_nodes\\n    if self.run_code(code, result):', 'File \"/home/dreamsmith/anaconda3/envs/py3/lib/python3.6/site-packages/IPython/core/interactiveshell.py\", line 2862, in run_code\\n    exec(code_obj, self.user_global_ns, self.user_ns)', 'File \"<ipython-input-5-b18497a9084e>\", line 22, in <module>\\n    tests.test_model_inputs(model_inputs)', 'File \"/media/dreamsmith/First/Dev/MachineLearning/deep-learning/deep-learning-udacity/language-translation/problem_unittests.py\", line 106, in test_model_inputs\\n    assert tf.assert_rank(lr, 0, message=\\'Learning Rate has wrong rank\\')', 'File \"/home/dreamsmith/anaconda3/envs/py3/lib/python3.6/site-packages/tensorflow/python/ops/check_ops.py\", line 617, in assert_rank\\n    dynamic_condition, data, summarize)', 'File \"/home/dreamsmith/anaconda3/envs/py3/lib/python3.6/site-packages/tensorflow/python/ops/check_ops.py\", line 571, in _assert_rank_condition\\n    return control_flow_ops.Assert(condition, data, summarize=summarize)', 'File \"/home/dreamsmith/anaconda3/envs/py3/lib/python3.6/site-packages/tensorflow/python/util/tf_should_use.py\", line 170, in wrapped\\n    return _add_should_use_warning(fn(*args, **kwargs))', 'File \"/home/dreamsmith/anaconda3/envs/py3/lib/python3.6/site-packages/tensorflow/python/util/tf_should_use.py\", line 139, in _add_should_use_warning\\n    wrapped = TFShouldUseWarningWrapper(x)', 'File \"/home/dreamsmith/anaconda3/envs/py3/lib/python3.6/site-packages/tensorflow/python/util/tf_should_use.py\", line 96, in __init__\\n    stack = [s.strip() for s in traceback.format_stack()]']\n",
      "==================================\n",
      "ERROR:tensorflow:==================================\n",
      "Object was never used (type <class 'tensorflow.python.framework.ops.Operation'>):\n",
      "<tf.Operation 'assert_rank_3/Assert/Assert' type=Assert>\n",
      "If you want to mark it as used call its \"mark_used()\" method.\n",
      "It was originally created here:\n",
      "['File \"/home/dreamsmith/anaconda3/envs/py3/lib/python3.6/runpy.py\", line 193, in _run_module_as_main\\n    \"__main__\", mod_spec)', 'File \"/home/dreamsmith/anaconda3/envs/py3/lib/python3.6/runpy.py\", line 85, in _run_code\\n    exec(code, run_globals)', 'File \"/home/dreamsmith/anaconda3/envs/py3/lib/python3.6/site-packages/ipykernel/__main__.py\", line 3, in <module>\\n    app.launch_new_instance()', 'File \"/home/dreamsmith/anaconda3/envs/py3/lib/python3.6/site-packages/traitlets/config/application.py\", line 658, in launch_instance\\n    app.start()', 'File \"/home/dreamsmith/anaconda3/envs/py3/lib/python3.6/site-packages/ipykernel/kernelapp.py\", line 477, in start\\n    ioloop.IOLoop.instance().start()', 'File \"/home/dreamsmith/anaconda3/envs/py3/lib/python3.6/site-packages/zmq/eventloop/ioloop.py\", line 177, in start\\n    super(ZMQIOLoop, self).start()', 'File \"/home/dreamsmith/anaconda3/envs/py3/lib/python3.6/site-packages/tornado/ioloop.py\", line 888, in start\\n    handler_func(fd_obj, events)', 'File \"/home/dreamsmith/anaconda3/envs/py3/lib/python3.6/site-packages/tornado/stack_context.py\", line 277, in null_wrapper\\n    return fn(*args, **kwargs)', 'File \"/home/dreamsmith/anaconda3/envs/py3/lib/python3.6/site-packages/zmq/eventloop/zmqstream.py\", line 440, in _handle_events\\n    self._handle_recv()', 'File \"/home/dreamsmith/anaconda3/envs/py3/lib/python3.6/site-packages/zmq/eventloop/zmqstream.py\", line 472, in _handle_recv\\n    self._run_callback(callback, msg)', 'File \"/home/dreamsmith/anaconda3/envs/py3/lib/python3.6/site-packages/zmq/eventloop/zmqstream.py\", line 414, in _run_callback\\n    callback(*args, **kwargs)', 'File \"/home/dreamsmith/anaconda3/envs/py3/lib/python3.6/site-packages/tornado/stack_context.py\", line 277, in null_wrapper\\n    return fn(*args, **kwargs)', 'File \"/home/dreamsmith/anaconda3/envs/py3/lib/python3.6/site-packages/ipykernel/kernelbase.py\", line 283, in dispatcher\\n    return self.dispatch_shell(stream, msg)', 'File \"/home/dreamsmith/anaconda3/envs/py3/lib/python3.6/site-packages/ipykernel/kernelbase.py\", line 235, in dispatch_shell\\n    handler(stream, idents, msg)', 'File \"/home/dreamsmith/anaconda3/envs/py3/lib/python3.6/site-packages/ipykernel/kernelbase.py\", line 399, in execute_request\\n    user_expressions, allow_stdin)', 'File \"/home/dreamsmith/anaconda3/envs/py3/lib/python3.6/site-packages/ipykernel/ipkernel.py\", line 196, in do_execute\\n    res = shell.run_cell(code, store_history=store_history, silent=silent)', 'File \"/home/dreamsmith/anaconda3/envs/py3/lib/python3.6/site-packages/ipykernel/zmqshell.py\", line 533, in run_cell\\n    return super(ZMQInteractiveShell, self).run_cell(*args, **kwargs)', 'File \"/home/dreamsmith/anaconda3/envs/py3/lib/python3.6/site-packages/IPython/core/interactiveshell.py\", line 2698, in run_cell\\n    interactivity=interactivity, compiler=compiler, result=result)', 'File \"/home/dreamsmith/anaconda3/envs/py3/lib/python3.6/site-packages/IPython/core/interactiveshell.py\", line 2808, in run_ast_nodes\\n    if self.run_code(code, result):', 'File \"/home/dreamsmith/anaconda3/envs/py3/lib/python3.6/site-packages/IPython/core/interactiveshell.py\", line 2862, in run_code\\n    exec(code_obj, self.user_global_ns, self.user_ns)', 'File \"<ipython-input-5-b18497a9084e>\", line 22, in <module>\\n    tests.test_model_inputs(model_inputs)', 'File \"/media/dreamsmith/First/Dev/MachineLearning/deep-learning/deep-learning-udacity/language-translation/problem_unittests.py\", line 107, in test_model_inputs\\n    assert tf.assert_rank(keep_prob, 0, message=\\'Keep Probability has wrong rank\\')', 'File \"/home/dreamsmith/anaconda3/envs/py3/lib/python3.6/site-packages/tensorflow/python/ops/check_ops.py\", line 617, in assert_rank\\n    dynamic_condition, data, summarize)', 'File \"/home/dreamsmith/anaconda3/envs/py3/lib/python3.6/site-packages/tensorflow/python/ops/check_ops.py\", line 571, in _assert_rank_condition\\n    return control_flow_ops.Assert(condition, data, summarize=summarize)', 'File \"/home/dreamsmith/anaconda3/envs/py3/lib/python3.6/site-packages/tensorflow/python/util/tf_should_use.py\", line 170, in wrapped\\n    return _add_should_use_warning(fn(*args, **kwargs))', 'File \"/home/dreamsmith/anaconda3/envs/py3/lib/python3.6/site-packages/tensorflow/python/util/tf_should_use.py\", line 139, in _add_should_use_warning\\n    wrapped = TFShouldUseWarningWrapper(x)', 'File \"/home/dreamsmith/anaconda3/envs/py3/lib/python3.6/site-packages/tensorflow/python/util/tf_should_use.py\", line 96, in __init__\\n    stack = [s.strip() for s in traceback.format_stack()]']\n",
      "==================================\n"
     ]
    },
    {
     "name": "stdout",
     "output_type": "stream",
     "text": [
      "Tests Passed\n"
     ]
    }
   ],
   "source": [
    "def model_inputs():\n",
    "    \"\"\"\n",
    "    Create TF Placeholders for input, targets, learning rate, and lengths of source and target sequences.\n",
    "    :return: Tuple (input, targets, learning rate, keep probability, target sequence length,\n",
    "    max target sequence length, source sequence length)\n",
    "    \"\"\"\n",
    "    input_data = tf.placeholder(tf.int32, [None, None], name='input')\n",
    "    targets = tf.placeholder(tf.int32, [None, None], name='targets')\n",
    "    lr = tf.placeholder(tf.float32, name='learning_rate')\n",
    "    keep_prob = tf.placeholder(tf.float32, name='keep_prob')\n",
    "    \n",
    "    target_sequence_length = tf.placeholder(tf.int32, (None,), name='target_sequence_length')\n",
    "    max_target_sequence_length = tf.reduce_max(target_sequence_length, name='max_target_len')\n",
    "    source_sequence_length = tf.placeholder(tf.int32, (None,), name='source_sequence_length')\n",
    "    \n",
    "    return input_data, targets, lr, keep_prob, target_sequence_length, max_target_sequence_length, source_sequence_length\n",
    "\n",
    "\n",
    "\"\"\"\n",
    "DON'T MODIFY ANYTHING IN THIS CELL THAT IS BELOW THIS LINE\n",
    "\"\"\"\n",
    "tests.test_model_inputs(model_inputs)"
   ]
  },
  {
   "cell_type": "markdown",
   "metadata": {},
   "source": [
    "### Process Decoder Input\n",
    "Implement `process_decoder_input` by removing the last word id from each batch in `target_data` and concat the GO ID to the begining of each batch."
   ]
  },
  {
   "cell_type": "code",
   "execution_count": 6,
   "metadata": {},
   "outputs": [
    {
     "name": "stdout",
     "output_type": "stream",
     "text": [
      "Tests Passed\n"
     ]
    }
   ],
   "source": [
    "def process_decoder_input(target_data, target_vocab_to_int, batch_size):\n",
    "    \"\"\"\n",
    "    Preprocess target data for encoding\n",
    "    :param target_data: Target Placehoder\n",
    "    :param target_vocab_to_int: Dictionary to go from the target words to an id\n",
    "    :param batch_size: Batch Size\n",
    "    :return: Preprocessed target data\n",
    "    \"\"\"\n",
    "    ending = tf.strided_slice(target_data, [0, 0], [batch_size, -1], [1,1])\n",
    "    dec_input = tf.concat([tf.fill([batch_size, 1], target_vocab_to_int['<GO>']), ending], 1)\n",
    "    return dec_input\n",
    "\n",
    "\"\"\"\n",
    "DON'T MODIFY ANYTHING IN THIS CELL THAT IS BELOW THIS LINE\n",
    "\"\"\"\n",
    "tests.test_process_encoding_input(process_decoder_input)"
   ]
  },
  {
   "cell_type": "markdown",
   "metadata": {},
   "source": [
    "### Encoding\n",
    "Implement `encoding_layer()` to create a Encoder RNN layer:\n",
    " * Embed the encoder input using [`tf.contrib.layers.embed_sequence`](https://www.tensorflow.org/api_docs/python/tf/contrib/layers/embed_sequence)\n",
    " * Construct a [stacked](https://github.com/tensorflow/tensorflow/blob/6947f65a374ebf29e74bb71e36fd82760056d82c/tensorflow/docs_src/tutorials/recurrent.md#stacking-multiple-lstms) [`tf.contrib.rnn.LSTMCell`](https://www.tensorflow.org/api_docs/python/tf/contrib/rnn/LSTMCell) wrapped in a [`tf.contrib.rnn.DropoutWrapper`](https://www.tensorflow.org/api_docs/python/tf/contrib/rnn/DropoutWrapper)\n",
    " * Pass cell and embedded input to [`tf.nn.dynamic_rnn()`](https://www.tensorflow.org/api_docs/python/tf/nn/dynamic_rnn)"
   ]
  },
  {
   "cell_type": "code",
   "execution_count": 7,
   "metadata": {
    "scrolled": false
   },
   "outputs": [
    {
     "name": "stdout",
     "output_type": "stream",
     "text": [
      "Tests Passed\n"
     ]
    }
   ],
   "source": [
    "from imp import reload\n",
    "reload(tests)\n",
    "\n",
    "def encoding_layer(rnn_inputs, rnn_size, num_layers, keep_prob, \n",
    "                   source_sequence_length, source_vocab_size, \n",
    "                   encoding_embedding_size):\n",
    "    \"\"\"\n",
    "    Create encoding layer\n",
    "    :param rnn_inputs: Inputs for the RNN\n",
    "    :param rnn_size: RNN Size\n",
    "    :param num_layers: Number of layers\n",
    "    :param keep_prob: Dropout keep probability\n",
    "    :param source_sequence_length: a list of the lengths of each sequence in the batch\n",
    "    :param source_vocab_size: vocabulary size of source data\n",
    "    :param encoding_embedding_size: embedding size of source data\n",
    "    :return: tuple (RNN output, RNN state)\n",
    "    \"\"\"\n",
    "    \n",
    "    # embed the encoder input\n",
    "    enc_embed_input = tf.contrib.layers.embed_sequence(rnn_inputs, source_vocab_size, encoding_embedding_size)\n",
    "    \n",
    "    # Construct a stacked RNN Cell\n",
    "    def lstm_cell(rnn_size):\n",
    "        lstm_cell = tf.contrib.rnn.LSTMCell(rnn_size, initializer=tf.random_uniform_initializer(-0.1, 0.1, seed=2))\n",
    "        dropout = tf.contrib.rnn.DropoutWrapper(lstm_cell, input_keep_prob=keep_prob)\n",
    "        \n",
    "        return dropout\n",
    "    \n",
    "    enc_cell = tf.contrib.rnn.MultiRNNCell([lstm_cell(rnn_size) for _ in range(num_layers)])\n",
    "    \n",
    "    enc_output, enc_state = tf.nn.dynamic_rnn(enc_cell, enc_embed_input, sequence_length=source_sequence_length, dtype=tf.float32)\n",
    "    return enc_output, enc_state\n",
    "\n",
    "\"\"\"\n",
    "DON'T MODIFY ANYTHING IN THIS CELL THAT IS BELOW THIS LINE\n",
    "\"\"\"\n",
    "tests.test_encoding_layer(encoding_layer)"
   ]
  },
  {
   "cell_type": "markdown",
   "metadata": {},
   "source": [
    "### Decoding - Training\n",
    "Create a training decoding layer:\n",
    "* Create a [`tf.contrib.seq2seq.TrainingHelper`](https://www.tensorflow.org/api_docs/python/tf/contrib/seq2seq/TrainingHelper) \n",
    "* Create a [`tf.contrib.seq2seq.BasicDecoder`](https://www.tensorflow.org/api_docs/python/tf/contrib/seq2seq/BasicDecoder)\n",
    "* Obtain the decoder outputs from [`tf.contrib.seq2seq.dynamic_decode`](https://www.tensorflow.org/api_docs/python/tf/contrib/seq2seq/dynamic_decode)"
   ]
  },
  {
   "cell_type": "code",
   "execution_count": 8,
   "metadata": {},
   "outputs": [
    {
     "name": "stdout",
     "output_type": "stream",
     "text": [
      "Tests Passed\n"
     ]
    }
   ],
   "source": [
    "\n",
    "def decoding_layer_train(encoder_state, dec_cell, dec_embed_input, \n",
    "                         target_sequence_length, max_summary_length, \n",
    "                         output_layer, keep_prob):\n",
    "    \"\"\"\n",
    "    Create a decoding layer for training\n",
    "    :param encoder_state: Encoder State\n",
    "    :param dec_cell: Decoder RNN Cell\n",
    "    :param dec_embed_input: Decoder embedded input\n",
    "    :param target_sequence_length: The lengths of each sequence in the target batch\n",
    "    :param max_summary_length: The length of the longest sequence in the batch\n",
    "    :param output_layer: Function to apply the output layer\n",
    "    :param keep_prob: Dropout keep probability\n",
    "    :return: BasicDecoderOutput containing training logits and sample_id\n",
    "    \"\"\"\n",
    "    training_helper = tf.contrib.seq2seq.TrainingHelper(inputs=dec_embed_input,\n",
    "                                                       sequence_length= target_sequence_length)\n",
    "    training_decoder = tf.contrib.seq2seq.BasicDecoder(dec_cell,\n",
    "                                                      training_helper,\n",
    "                                                      encoder_state,\n",
    "                                                      output_layer)\n",
    "    training_decoder_outputs = tf.contrib.seq2seq.dynamic_decode(training_decoder,\n",
    "                                                                impute_finished=True,\n",
    "                                                                maximum_iterations=max_summary_length)[0]\n",
    "    return training_decoder_outputs\n",
    "\n",
    "\n",
    "\n",
    "\"\"\"\n",
    "DON'T MODIFY ANYTHING IN THIS CELL THAT IS BELOW THIS LINE\n",
    "\"\"\"\n",
    "tests.test_decoding_layer_train(decoding_layer_train)"
   ]
  },
  {
   "cell_type": "markdown",
   "metadata": {},
   "source": [
    "### Decoding - Inference\n",
    "Create inference decoder:\n",
    "* Create a [`tf.contrib.seq2seq.GreedyEmbeddingHelper`](https://www.tensorflow.org/api_docs/python/tf/contrib/seq2seq/GreedyEmbeddingHelper)\n",
    "* Create a [`tf.contrib.seq2seq.BasicDecoder`](https://www.tensorflow.org/api_docs/python/tf/contrib/seq2seq/BasicDecoder)\n",
    "* Obtain the decoder outputs from [`tf.contrib.seq2seq.dynamic_decode`](https://www.tensorflow.org/api_docs/python/tf/contrib/seq2seq/dynamic_decode)"
   ]
  },
  {
   "cell_type": "code",
   "execution_count": 9,
   "metadata": {
    "scrolled": true
   },
   "outputs": [
    {
     "name": "stdout",
     "output_type": "stream",
     "text": [
      "Tests Passed\n"
     ]
    }
   ],
   "source": [
    "def decoding_layer_infer(encoder_state, dec_cell, dec_embeddings, start_of_sequence_id,\n",
    "                         end_of_sequence_id, max_target_sequence_length,\n",
    "                         vocab_size, output_layer, batch_size, keep_prob):\n",
    "    \"\"\"\n",
    "    Create a decoding layer for inference\n",
    "    :param encoder_state: Encoder state\n",
    "    :param dec_cell: Decoder RNN Cell\n",
    "    :param dec_embeddings: Decoder embeddings\n",
    "    :param start_of_sequence_id: GO ID\n",
    "    :param end_of_sequence_id: EOS Id\n",
    "    :param max_target_sequence_length: Maximum length of target sequences\n",
    "    :param vocab_size: Size of decoder/target vocabulary\n",
    "    :param decoding_scope: TenorFlow Variable Scope for decoding\n",
    "    :param output_layer: Function to apply the output layer\n",
    "    :param batch_size: Batch size\n",
    "    :param keep_prob: Dropout keep probability\n",
    "    :return: BasicDecoderOutput containing inference logits and sample_id\n",
    "    \"\"\"\n",
    "    start_tokens = tf.tile(tf.constant([start_of_sequence_id], dtype=tf.int32), [batch_size], name='start_tokens')\n",
    "    \n",
    "    inference_helper = tf.contrib.seq2seq.GreedyEmbeddingHelper(dec_embeddings,\n",
    "                                                               start_tokens=start_tokens,\n",
    "                                                               end_token=end_of_sequence_id)\n",
    "    inference_decoder = tf.contrib.seq2seq.BasicDecoder(dec_cell,\n",
    "                                                        inference_helper,\n",
    "                                                       encoder_state,\n",
    "                                                       output_layer)\n",
    "    inference_decoder_output = tf.contrib.seq2seq.dynamic_decode(inference_decoder,\n",
    "                                                                impute_finished=True,\n",
    "                                                                maximum_iterations=max_target_sequence_length)[0]\n",
    "    return inference_decoder_output\n",
    "\n",
    "\n",
    "\n",
    "\"\"\"\n",
    "DON'T MODIFY ANYTHING IN THIS CELL THAT IS BELOW THIS LINE\n",
    "\"\"\"\n",
    "tests.test_decoding_layer_infer(decoding_layer_infer)"
   ]
  },
  {
   "cell_type": "markdown",
   "metadata": {},
   "source": [
    "### Build the Decoding Layer\n",
    "Implement `decoding_layer()` to create a Decoder RNN layer.\n",
    "\n",
    "* Embed the target sequences\n",
    "* Construct the decoder LSTM cell (just like you constructed the encoder cell above)\n",
    "* Create an output layer to map the outputs of the decoder to the elements of our vocabulary\n",
    "* Use the your `decoding_layer_train(encoder_state, dec_cell, dec_embed_input, target_sequence_length, max_target_sequence_length, output_layer, keep_prob)` function to get the training logits.\n",
    "* Use your `decoding_layer_infer(encoder_state, dec_cell, dec_embeddings, start_of_sequence_id, end_of_sequence_id, max_target_sequence_length, vocab_size, output_layer, batch_size, keep_prob)` function to get the inference logits.\n",
    "\n",
    "Note: You'll need to use [tf.variable_scope](https://www.tensorflow.org/api_docs/python/tf/variable_scope) to share variables between training and inference."
   ]
  },
  {
   "cell_type": "code",
   "execution_count": 10,
   "metadata": {},
   "outputs": [
    {
     "name": "stdout",
     "output_type": "stream",
     "text": [
      "Tests Passed\n"
     ]
    }
   ],
   "source": [
    "def decoding_layer(dec_input, encoder_state,\n",
    "                   target_sequence_length, max_target_sequence_length,\n",
    "                   rnn_size,\n",
    "                   num_layers, target_vocab_to_int, target_vocab_size,\n",
    "                   batch_size, keep_prob, decoding_embedding_size):\n",
    "    \"\"\"\n",
    "    Create decoding layer\n",
    "    :param dec_input: Decoder input\n",
    "    :param encoder_state: Encoder state\n",
    "    :param target_sequence_length: The lengths of each sequence in the target batch\n",
    "    :param max_target_sequence_length: Maximum length of target sequences\n",
    "    :param rnn_size: RNN Size\n",
    "    :param num_layers: Number of layers\n",
    "    :param target_vocab_to_int: Dictionary to go from the target words to an id\n",
    "    :param target_vocab_size: Size of target vocabulary\n",
    "    :param batch_size: The size of the batch\n",
    "    :param keep_prob: Dropout keep probability\n",
    "    :param decoding_embedding_size: Decoding embedding size\n",
    "    :return: Tuple of (Training BasicDecoderOutput, Inference BasicDecoderOutput)\n",
    "    \"\"\"\n",
    "    # Decoder Embedding\n",
    "    dec_embeddings = tf.Variable(tf.random_uniform([target_vocab_size, decoding_embedding_size]))\n",
    "    dec_embed_input = tf.nn.embedding_lookup(dec_embeddings, dec_input)\n",
    "    \n",
    "    # Create the decoder cell\n",
    "    def lstm_cell(rnn_size):\n",
    "        lstm_cell = tf.contrib.rnn.LSTMCell(rnn_size, initializer=tf.random_uniform_initializer(-0.1, 0.1, seed=2))\n",
    "        dropout = tf.contrib.rnn.DropoutWrapper(lstm_cell, input_keep_prob=keep_prob)\n",
    "        \n",
    "        return dropout\n",
    "    \n",
    "    dec_cell = tf.contrib.rnn.MultiRNNCell([lstm_cell(rnn_size) for _ in range(num_layers)])\n",
    "    \n",
    "    # Dense layer\n",
    "    output_layer = Dense(target_vocab_size,\n",
    "                        kernel_initializer=tf.truncated_normal_initializer(mean=0.0, stddev=0.1))\n",
    "    \n",
    "    # Get Training Logits\n",
    "    with tf.variable_scope(\"decode\"):\n",
    "        training_logits = decoding_layer_train(encoder_state,\n",
    "                                              dec_cell,\n",
    "                                              dec_embed_input,\n",
    "                                              target_sequence_length,\n",
    "                                              max_target_sequence_length,\n",
    "                                              output_layer,\n",
    "                                              keep_prob)\n",
    "    \n",
    "    # Get Inference Logits\n",
    "    with tf.variable_scope(\"decode\", reuse=True):\n",
    "        inference_logits = decoding_layer_infer(encoder_state,\n",
    "                                               dec_cell,\n",
    "                                               dec_embeddings,\n",
    "                                               target_vocab_to_int['<GO>'],\n",
    "                                               target_vocab_to_int['<EOS>'],\n",
    "                                               max_target_sequence_length,\n",
    "                                               target_vocab_size,\n",
    "                                               output_layer,\n",
    "                                               batch_size,\n",
    "                                               keep_prob)\n",
    "    \n",
    "    return training_logits, inference_logits\n",
    "\n",
    "\n",
    "\n",
    "\"\"\"\n",
    "DON'T MODIFY ANYTHING IN THIS CELL THAT IS BELOW THIS LINE\n",
    "\"\"\"\n",
    "tests.test_decoding_layer(decoding_layer)"
   ]
  },
  {
   "cell_type": "markdown",
   "metadata": {},
   "source": [
    "### Build the Neural Network\n",
    "Apply the functions you implemented above to:\n",
    "\n",
    "- Encode the input using your `encoding_layer(rnn_inputs, rnn_size, num_layers, keep_prob,  source_sequence_length, source_vocab_size, encoding_embedding_size)`.\n",
    "- Process target data using your `process_decoder_input(target_data, target_vocab_to_int, batch_size)` function.\n",
    "- Decode the encoded input using your `decoding_layer(dec_input, enc_state, target_sequence_length, max_target_sentence_length, rnn_size, num_layers, target_vocab_to_int, target_vocab_size, batch_size, keep_prob, dec_embedding_size)` function."
   ]
  },
  {
   "cell_type": "code",
   "execution_count": 11,
   "metadata": {},
   "outputs": [
    {
     "name": "stdout",
     "output_type": "stream",
     "text": [
      "Tests Passed\n"
     ]
    }
   ],
   "source": [
    "def seq2seq_model(input_data, target_data, keep_prob, batch_size,\n",
    "                  source_sequence_length, target_sequence_length,\n",
    "                  max_target_sentence_length,\n",
    "                  source_vocab_size, target_vocab_size,\n",
    "                  enc_embedding_size, dec_embedding_size,\n",
    "                  rnn_size, num_layers, target_vocab_to_int):\n",
    "    \"\"\"\n",
    "    Build the Sequence-to-Sequence part of the neural network\n",
    "    :param input_data: Input placeholder\n",
    "    :param target_data: Target placeholder\n",
    "    :param keep_prob: Dropout keep probability placeholder\n",
    "    :param batch_size: Batch Size\n",
    "    :param source_sequence_length: Sequence Lengths of source sequences in the batch\n",
    "    :param target_sequence_length: Sequence Lengths of target sequences in the batch\n",
    "    :param source_vocab_size: Source vocabulary size\n",
    "    :param target_vocab_size: Target vocabulary size\n",
    "    :param enc_embedding_size: Decoder embedding size\n",
    "    :param dec_embedding_size: Encoder embedding size\n",
    "    :param rnn_size: RNN Size\n",
    "    :param num_layers: Number of layers\n",
    "    :param target_vocab_to_int: Dictionary to go from the target words to an id\n",
    "    :return: Tuple of (Training BasicDecoderOutput, Inference BasicDecoderOutput)\n",
    "    \"\"\"\n",
    "    # Pass input through encoder\n",
    "    #   Ignore encoder output, grab final state\n",
    "    _, enc_state = encoding_layer(input_data, rnn_size, num_layers, keep_prob, source_sequence_length,\n",
    "                                 source_vocab_size, enc_embedding_size)\n",
    "    \n",
    "    # Prepare the target sequence to feed into the decoder in training mode\n",
    "    dec_input = process_decoder_input(target_data, target_vocab_to_int, batch_size)\n",
    "    \n",
    "    # Pass the encoder state and decoder inputs to the decoders\n",
    "    training_decoder_output, inference_decoder_output = decoding_layer(dec_input,\n",
    "                                                                      enc_state,\n",
    "                                                                      target_sequence_length,\n",
    "                                                                      max_target_sentence_length,\n",
    "                                                                      rnn_size,\n",
    "                                                                      num_layers,\n",
    "                                                                      target_vocab_to_int,\n",
    "                                                                      target_vocab_size,\n",
    "                                                                      batch_size,\n",
    "                                                                      keep_prob,\n",
    "                                                                      dec_embedding_size)\n",
    "    return training_decoder_output, inference_decoder_output\n",
    "\n",
    "\n",
    "\"\"\"\n",
    "DON'T MODIFY ANYTHING IN THIS CELL THAT IS BELOW THIS LINE\n",
    "\"\"\"\n",
    "tests.test_seq2seq_model(seq2seq_model)"
   ]
  },
  {
   "cell_type": "markdown",
   "metadata": {},
   "source": [
    "## Neural Network Training\n",
    "### Hyperparameters\n",
    "Tune the following parameters:\n",
    "\n",
    "- Set `epochs` to the number of epochs.\n",
    "- Set `batch_size` to the batch size.\n",
    "- Set `rnn_size` to the size of the RNNs.\n",
    "- Set `num_layers` to the number of layers.\n",
    "- Set `encoding_embedding_size` to the size of the embedding for the encoder.\n",
    "- Set `decoding_embedding_size` to the size of the embedding for the decoder.\n",
    "- Set `learning_rate` to the learning rate.\n",
    "- Set `keep_probability` to the Dropout keep probability\n",
    "- Set `display_step` to state how many steps between each debug output statement"
   ]
  },
  {
   "cell_type": "code",
   "execution_count": 16,
   "metadata": {
    "collapsed": true
   },
   "outputs": [],
   "source": [
    "# Number of Epochs\n",
    "epochs = 20\n",
    "# Batch Size\n",
    "batch_size = 128\n",
    "# RNN Size\n",
    "rnn_size = 512\n",
    "# Number of Layers\n",
    "num_layers = 2\n",
    "# Embedding Size\n",
    "encoding_embedding_size = 300\n",
    "decoding_embedding_size = 300\n",
    "# Learning Rate\n",
    "learning_rate = 0.01\n",
    "# Dropout Keep Probability\n",
    "keep_probability = 0.7\n",
    "display_step = 100"
   ]
  },
  {
   "cell_type": "markdown",
   "metadata": {},
   "source": [
    "### Build the Graph\n",
    "Build the graph using the neural network you implemented."
   ]
  },
  {
   "cell_type": "code",
   "execution_count": 13,
   "metadata": {
    "collapsed": true
   },
   "outputs": [],
   "source": [
    "\"\"\"\n",
    "DON'T MODIFY ANYTHING IN THIS CELL\n",
    "\"\"\"\n",
    "save_path = 'checkpoints/dev'\n",
    "(source_int_text, target_int_text), (source_vocab_to_int, target_vocab_to_int), _ = helper.load_preprocess()\n",
    "max_target_sentence_length = max([len(sentence) for sentence in source_int_text])\n",
    "\n",
    "train_graph = tf.Graph()\n",
    "with train_graph.as_default():\n",
    "    input_data, targets, lr, keep_prob, target_sequence_length, max_target_sequence_length, source_sequence_length = model_inputs()\n",
    "\n",
    "    #sequence_length = tf.placeholder_with_default(max_target_sentence_length, None, name='sequence_length')\n",
    "    input_shape = tf.shape(input_data)\n",
    "\n",
    "    train_logits, inference_logits = seq2seq_model(tf.reverse(input_data, [-1]),\n",
    "                                                   targets,\n",
    "                                                   keep_prob,\n",
    "                                                   batch_size,\n",
    "                                                   source_sequence_length,\n",
    "                                                   target_sequence_length,\n",
    "                                                   max_target_sequence_length,\n",
    "                                                   len(source_vocab_to_int),\n",
    "                                                   len(target_vocab_to_int),\n",
    "                                                   encoding_embedding_size,\n",
    "                                                   decoding_embedding_size,\n",
    "                                                   rnn_size,\n",
    "                                                   num_layers,\n",
    "                                                   target_vocab_to_int)\n",
    "\n",
    "\n",
    "    training_logits = tf.identity(train_logits.rnn_output, name='logits')\n",
    "    inference_logits = tf.identity(inference_logits.sample_id, name='predictions')\n",
    "\n",
    "    masks = tf.sequence_mask(target_sequence_length, max_target_sequence_length, dtype=tf.float32, name='masks')\n",
    "\n",
    "    with tf.name_scope(\"optimization\"):\n",
    "        # Loss function\n",
    "        cost = tf.contrib.seq2seq.sequence_loss(\n",
    "            training_logits,\n",
    "            targets,\n",
    "            masks)\n",
    "\n",
    "        # Optimizer\n",
    "        optimizer = tf.train.AdamOptimizer(lr)\n",
    "\n",
    "        # Gradient Clipping\n",
    "        gradients = optimizer.compute_gradients(cost)\n",
    "        capped_gradients = [(tf.clip_by_value(grad, -1., 1.), var) for grad, var in gradients if grad is not None]\n",
    "        train_op = optimizer.apply_gradients(capped_gradients)\n"
   ]
  },
  {
   "cell_type": "markdown",
   "metadata": {},
   "source": [
    "Batch and pad the source and target sequences"
   ]
  },
  {
   "cell_type": "code",
   "execution_count": 14,
   "metadata": {
    "collapsed": true
   },
   "outputs": [],
   "source": [
    "\"\"\"\n",
    "DON'T MODIFY ANYTHING IN THIS CELL\n",
    "\"\"\"\n",
    "def pad_sentence_batch(sentence_batch, pad_int):\n",
    "    \"\"\"Pad sentences with <PAD> so that each sentence of a batch has the same length\"\"\"\n",
    "    max_sentence = max([len(sentence) for sentence in sentence_batch])\n",
    "    return [sentence + [pad_int] * (max_sentence - len(sentence)) for sentence in sentence_batch]\n",
    "\n",
    "\n",
    "def get_batches(sources, targets, batch_size, source_pad_int, target_pad_int):\n",
    "    \"\"\"Batch targets, sources, and the lengths of their sentences together\"\"\"\n",
    "    for batch_i in range(0, len(sources)//batch_size):\n",
    "        start_i = batch_i * batch_size\n",
    "\n",
    "        # Slice the right amount for the batch\n",
    "        sources_batch = sources[start_i:start_i + batch_size]\n",
    "        targets_batch = targets[start_i:start_i + batch_size]\n",
    "\n",
    "        # Pad\n",
    "        pad_sources_batch = np.array(pad_sentence_batch(sources_batch, source_pad_int))\n",
    "        pad_targets_batch = np.array(pad_sentence_batch(targets_batch, target_pad_int))\n",
    "\n",
    "        # Need the lengths for the _lengths parameters\n",
    "        pad_targets_lengths = []\n",
    "        for target in pad_targets_batch:\n",
    "            pad_targets_lengths.append(len(target))\n",
    "\n",
    "        pad_source_lengths = []\n",
    "        for source in pad_sources_batch:\n",
    "            pad_source_lengths.append(len(source))\n",
    "\n",
    "        yield pad_sources_batch, pad_targets_batch, pad_source_lengths, pad_targets_lengths\n"
   ]
  },
  {
   "cell_type": "markdown",
   "metadata": {},
   "source": [
    "### Train\n",
    "Train the neural network on the preprocessed data. If you have a hard time getting a good loss, check the forms to see if anyone is having the same problem."
   ]
  },
  {
   "cell_type": "code",
   "execution_count": 17,
   "metadata": {
    "scrolled": true
   },
   "outputs": [
    {
     "name": "stdout",
     "output_type": "stream",
     "text": [
      "Epoch   0 Batch  100/1077 - Train Accuracy: 0.4195, Validation Accuracy: 0.4762, Loss: 2.0358\n",
      "Epoch   0 Batch  200/1077 - Train Accuracy: 0.4195, Validation Accuracy: 0.4183, Loss: 0.9794\n",
      "Epoch   0 Batch  300/1077 - Train Accuracy: 0.4914, Validation Accuracy: 0.5423, Loss: 0.7971\n",
      "Epoch   0 Batch  400/1077 - Train Accuracy: 0.5699, Validation Accuracy: 0.5611, Loss: 0.7056\n",
      "Epoch   0 Batch  500/1077 - Train Accuracy: 0.5684, Validation Accuracy: 0.5749, Loss: 0.6257\n",
      "Epoch   0 Batch  600/1077 - Train Accuracy: 0.6332, Validation Accuracy: 0.6001, Loss: 0.5376\n",
      "Epoch   0 Batch  700/1077 - Train Accuracy: 0.5930, Validation Accuracy: 0.6204, Loss: 0.5306\n",
      "Epoch   0 Batch  800/1077 - Train Accuracy: 0.6434, Validation Accuracy: 0.6225, Loss: 0.5041\n",
      "Epoch   0 Batch  900/1077 - Train Accuracy: 0.6973, Validation Accuracy: 0.6477, Loss: 0.4599\n",
      "Epoch   0 Batch 1000/1077 - Train Accuracy: 0.7106, Validation Accuracy: 0.6598, Loss: 0.3919\n",
      "Epoch   1 Batch  100/1077 - Train Accuracy: 0.7402, Validation Accuracy: 0.7337, Loss: 0.3670\n",
      "Epoch   1 Batch  200/1077 - Train Accuracy: 0.6996, Validation Accuracy: 0.7138, Loss: 0.3481\n",
      "Epoch   1 Batch  300/1077 - Train Accuracy: 0.7833, Validation Accuracy: 0.7259, Loss: 0.2931\n",
      "Epoch   1 Batch  400/1077 - Train Accuracy: 0.7559, Validation Accuracy: 0.7148, Loss: 0.3182\n",
      "Epoch   1 Batch  500/1077 - Train Accuracy: 0.7941, Validation Accuracy: 0.7511, Loss: 0.2483\n",
      "Epoch   1 Batch  600/1077 - Train Accuracy: 0.7824, Validation Accuracy: 0.7773, Loss: 0.2293\n",
      "Epoch   1 Batch  700/1077 - Train Accuracy: 0.7633, Validation Accuracy: 0.7777, Loss: 0.1972\n",
      "Epoch   1 Batch  800/1077 - Train Accuracy: 0.8078, Validation Accuracy: 0.7820, Loss: 0.1991\n",
      "Epoch   1 Batch  900/1077 - Train Accuracy: 0.8656, Validation Accuracy: 0.8079, Loss: 0.1710\n",
      "Epoch   1 Batch 1000/1077 - Train Accuracy: 0.8311, Validation Accuracy: 0.7816, Loss: 0.1500\n",
      "Epoch   2 Batch  100/1077 - Train Accuracy: 0.8449, Validation Accuracy: 0.8253, Loss: 0.1198\n",
      "Epoch   2 Batch  200/1077 - Train Accuracy: 0.8348, Validation Accuracy: 0.8256, Loss: 0.1288\n",
      "Epoch   2 Batch  300/1077 - Train Accuracy: 0.9050, Validation Accuracy: 0.8526, Loss: 0.0992\n",
      "Epoch   2 Batch  400/1077 - Train Accuracy: 0.8488, Validation Accuracy: 0.8335, Loss: 0.1104\n",
      "Epoch   2 Batch  500/1077 - Train Accuracy: 0.8961, Validation Accuracy: 0.8445, Loss: 0.0862\n",
      "Epoch   2 Batch  600/1077 - Train Accuracy: 0.8958, Validation Accuracy: 0.8310, Loss: 0.0922\n",
      "Epoch   2 Batch  700/1077 - Train Accuracy: 0.8824, Validation Accuracy: 0.8143, Loss: 0.0815\n",
      "Epoch   2 Batch  800/1077 - Train Accuracy: 0.8848, Validation Accuracy: 0.8466, Loss: 0.0818\n",
      "Epoch   2 Batch  900/1077 - Train Accuracy: 0.9141, Validation Accuracy: 0.8594, Loss: 0.0894\n",
      "Epoch   2 Batch 1000/1077 - Train Accuracy: 0.9196, Validation Accuracy: 0.8327, Loss: 0.0806\n",
      "Epoch   3 Batch  100/1077 - Train Accuracy: 0.9090, Validation Accuracy: 0.8601, Loss: 0.0673\n",
      "Epoch   3 Batch  200/1077 - Train Accuracy: 0.8914, Validation Accuracy: 0.8505, Loss: 0.0802\n",
      "Epoch   3 Batch  300/1077 - Train Accuracy: 0.9178, Validation Accuracy: 0.8665, Loss: 0.0659\n",
      "Epoch   3 Batch  400/1077 - Train Accuracy: 0.9102, Validation Accuracy: 0.8569, Loss: 0.0839\n",
      "Epoch   3 Batch  500/1077 - Train Accuracy: 0.9176, Validation Accuracy: 0.8700, Loss: 0.0534\n",
      "Epoch   3 Batch  600/1077 - Train Accuracy: 0.9066, Validation Accuracy: 0.8594, Loss: 0.0702\n",
      "Epoch   3 Batch  700/1077 - Train Accuracy: 0.9105, Validation Accuracy: 0.8310, Loss: 0.0599\n",
      "Epoch   3 Batch  800/1077 - Train Accuracy: 0.9273, Validation Accuracy: 0.8903, Loss: 0.0704\n",
      "Epoch   3 Batch  900/1077 - Train Accuracy: 0.9398, Validation Accuracy: 0.8896, Loss: 0.0766\n",
      "Epoch   3 Batch 1000/1077 - Train Accuracy: 0.9129, Validation Accuracy: 0.8739, Loss: 0.0549\n",
      "Epoch   4 Batch  100/1077 - Train Accuracy: 0.8961, Validation Accuracy: 0.8672, Loss: 0.0607\n",
      "Epoch   4 Batch  200/1077 - Train Accuracy: 0.9008, Validation Accuracy: 0.8782, Loss: 0.0649\n",
      "Epoch   4 Batch  300/1077 - Train Accuracy: 0.9375, Validation Accuracy: 0.8558, Loss: 0.0533\n",
      "Epoch   4 Batch  400/1077 - Train Accuracy: 0.8965, Validation Accuracy: 0.8690, Loss: 0.0749\n",
      "Epoch   4 Batch  500/1077 - Train Accuracy: 0.9387, Validation Accuracy: 0.8647, Loss: 0.0537\n",
      "Epoch   4 Batch  600/1077 - Train Accuracy: 0.9048, Validation Accuracy: 0.8800, Loss: 0.0796\n",
      "Epoch   4 Batch  700/1077 - Train Accuracy: 0.9152, Validation Accuracy: 0.8757, Loss: 0.0476\n",
      "Epoch   4 Batch  800/1077 - Train Accuracy: 0.9211, Validation Accuracy: 0.8903, Loss: 0.0617\n",
      "Epoch   4 Batch  900/1077 - Train Accuracy: 0.9191, Validation Accuracy: 0.8853, Loss: 0.0719\n",
      "Epoch   4 Batch 1000/1077 - Train Accuracy: 0.9353, Validation Accuracy: 0.8789, Loss: 0.0563\n",
      "Epoch   5 Batch  100/1077 - Train Accuracy: 0.9187, Validation Accuracy: 0.8949, Loss: 0.0555\n",
      "Epoch   5 Batch  200/1077 - Train Accuracy: 0.9234, Validation Accuracy: 0.8849, Loss: 0.0673\n",
      "Epoch   5 Batch  300/1077 - Train Accuracy: 0.9527, Validation Accuracy: 0.8842, Loss: 0.0499\n",
      "Epoch   5 Batch  400/1077 - Train Accuracy: 0.9176, Validation Accuracy: 0.8832, Loss: 0.0800\n",
      "Epoch   5 Batch  500/1077 - Train Accuracy: 0.9238, Validation Accuracy: 0.8871, Loss: 0.0499\n",
      "Epoch   5 Batch  600/1077 - Train Accuracy: 0.9304, Validation Accuracy: 0.8782, Loss: 0.0639\n",
      "Epoch   5 Batch  700/1077 - Train Accuracy: 0.9219, Validation Accuracy: 0.8523, Loss: 0.0541\n",
      "Epoch   5 Batch  800/1077 - Train Accuracy: 0.9176, Validation Accuracy: 0.9237, Loss: 0.0591\n",
      "Epoch   5 Batch  900/1077 - Train Accuracy: 0.9281, Validation Accuracy: 0.8970, Loss: 0.0600\n",
      "Epoch   5 Batch 1000/1077 - Train Accuracy: 0.9249, Validation Accuracy: 0.8885, Loss: 0.0481\n",
      "Epoch   6 Batch  100/1077 - Train Accuracy: 0.9004, Validation Accuracy: 0.9148, Loss: 0.0594\n",
      "Epoch   6 Batch  200/1077 - Train Accuracy: 0.9332, Validation Accuracy: 0.9041, Loss: 0.0631\n",
      "Epoch   6 Batch  300/1077 - Train Accuracy: 0.9104, Validation Accuracy: 0.9055, Loss: 0.0553\n",
      "Epoch   6 Batch  400/1077 - Train Accuracy: 0.9230, Validation Accuracy: 0.9073, Loss: 0.0688\n",
      "Epoch   6 Batch  500/1077 - Train Accuracy: 0.9371, Validation Accuracy: 0.9041, Loss: 0.0493\n",
      "Epoch   6 Batch  600/1077 - Train Accuracy: 0.9133, Validation Accuracy: 0.9219, Loss: 0.0605\n",
      "Epoch   6 Batch  700/1077 - Train Accuracy: 0.9008, Validation Accuracy: 0.9201, Loss: 0.0631\n",
      "Epoch   6 Batch  800/1077 - Train Accuracy: 0.9367, Validation Accuracy: 0.9144, Loss: 0.0596\n",
      "Epoch   6 Batch  900/1077 - Train Accuracy: 0.9383, Validation Accuracy: 0.9013, Loss: 0.0789\n",
      "Epoch   6 Batch 1000/1077 - Train Accuracy: 0.9334, Validation Accuracy: 0.8981, Loss: 0.0591\n",
      "Epoch   7 Batch  100/1077 - Train Accuracy: 0.9219, Validation Accuracy: 0.9126, Loss: 0.0536\n",
      "Epoch   7 Batch  200/1077 - Train Accuracy: 0.9059, Validation Accuracy: 0.9002, Loss: 0.0753\n",
      "Epoch   7 Batch  300/1077 - Train Accuracy: 0.9198, Validation Accuracy: 0.8910, Loss: 0.0587\n",
      "Epoch   7 Batch  400/1077 - Train Accuracy: 0.9215, Validation Accuracy: 0.8800, Loss: 0.0789\n",
      "Epoch   7 Batch  500/1077 - Train Accuracy: 0.9422, Validation Accuracy: 0.9031, Loss: 0.0446\n",
      "Epoch   7 Batch  600/1077 - Train Accuracy: 0.9226, Validation Accuracy: 0.8960, Loss: 0.0702\n",
      "Epoch   7 Batch  700/1077 - Train Accuracy: 0.9391, Validation Accuracy: 0.8867, Loss: 0.0574\n",
      "Epoch   7 Batch  800/1077 - Train Accuracy: 0.8992, Validation Accuracy: 0.9055, Loss: 0.0648\n",
      "Epoch   7 Batch  900/1077 - Train Accuracy: 0.9449, Validation Accuracy: 0.9091, Loss: 0.0672\n",
      "Epoch   7 Batch 1000/1077 - Train Accuracy: 0.9286, Validation Accuracy: 0.8896, Loss: 0.0538\n",
      "Epoch   8 Batch  100/1077 - Train Accuracy: 0.9090, Validation Accuracy: 0.9038, Loss: 0.0534\n",
      "Epoch   8 Batch  200/1077 - Train Accuracy: 0.8969, Validation Accuracy: 0.9123, Loss: 0.0615\n",
      "Epoch   8 Batch  300/1077 - Train Accuracy: 0.9498, Validation Accuracy: 0.9276, Loss: 0.0586\n",
      "Epoch   8 Batch  400/1077 - Train Accuracy: 0.9262, Validation Accuracy: 0.9055, Loss: 0.0672\n",
      "Epoch   8 Batch  500/1077 - Train Accuracy: 0.9387, Validation Accuracy: 0.8885, Loss: 0.0571\n",
      "Epoch   8 Batch  600/1077 - Train Accuracy: 0.9092, Validation Accuracy: 0.9091, Loss: 0.0668\n",
      "Epoch   8 Batch  700/1077 - Train Accuracy: 0.9348, Validation Accuracy: 0.8913, Loss: 0.0538\n",
      "Epoch   8 Batch  800/1077 - Train Accuracy: 0.9145, Validation Accuracy: 0.9062, Loss: 0.0607\n"
     ]
    },
    {
     "name": "stdout",
     "output_type": "stream",
     "text": [
      "Epoch   8 Batch  900/1077 - Train Accuracy: 0.9324, Validation Accuracy: 0.8906, Loss: 0.0539\n",
      "Epoch   8 Batch 1000/1077 - Train Accuracy: 0.9308, Validation Accuracy: 0.9126, Loss: 0.0519\n",
      "Epoch   9 Batch  100/1077 - Train Accuracy: 0.9223, Validation Accuracy: 0.9002, Loss: 0.0509\n",
      "Epoch   9 Batch  200/1077 - Train Accuracy: 0.9098, Validation Accuracy: 0.9009, Loss: 0.0600\n",
      "Epoch   9 Batch  300/1077 - Train Accuracy: 0.9420, Validation Accuracy: 0.9041, Loss: 0.0553\n",
      "Epoch   9 Batch  400/1077 - Train Accuracy: 0.9117, Validation Accuracy: 0.9169, Loss: 0.0789\n",
      "Epoch   9 Batch  500/1077 - Train Accuracy: 0.9336, Validation Accuracy: 0.9116, Loss: 0.0504\n",
      "Epoch   9 Batch  600/1077 - Train Accuracy: 0.9170, Validation Accuracy: 0.9045, Loss: 0.0582\n",
      "Epoch   9 Batch  700/1077 - Train Accuracy: 0.9414, Validation Accuracy: 0.8910, Loss: 0.0641\n",
      "Epoch   9 Batch  800/1077 - Train Accuracy: 0.9156, Validation Accuracy: 0.8967, Loss: 0.0695\n",
      "Epoch   9 Batch  900/1077 - Train Accuracy: 0.9391, Validation Accuracy: 0.9002, Loss: 0.0612\n",
      "Epoch   9 Batch 1000/1077 - Train Accuracy: 0.9368, Validation Accuracy: 0.9116, Loss: 0.0564\n",
      "Epoch  10 Batch  100/1077 - Train Accuracy: 0.9371, Validation Accuracy: 0.9112, Loss: 0.0595\n",
      "Epoch  10 Batch  200/1077 - Train Accuracy: 0.9145, Validation Accuracy: 0.8718, Loss: 0.0795\n",
      "Epoch  10 Batch  300/1077 - Train Accuracy: 0.9326, Validation Accuracy: 0.8757, Loss: 0.0559\n",
      "Epoch  10 Batch  400/1077 - Train Accuracy: 0.9367, Validation Accuracy: 0.8981, Loss: 0.0726\n",
      "Epoch  10 Batch  500/1077 - Train Accuracy: 0.9352, Validation Accuracy: 0.8981, Loss: 0.0637\n",
      "Epoch  10 Batch  600/1077 - Train Accuracy: 0.9193, Validation Accuracy: 0.9105, Loss: 0.0581\n",
      "Epoch  10 Batch  700/1077 - Train Accuracy: 0.9277, Validation Accuracy: 0.8920, Loss: 0.0520\n",
      "Epoch  10 Batch  800/1077 - Train Accuracy: 0.9348, Validation Accuracy: 0.9102, Loss: 0.0563\n",
      "Epoch  10 Batch  900/1077 - Train Accuracy: 0.9484, Validation Accuracy: 0.9148, Loss: 0.0742\n",
      "Epoch  10 Batch 1000/1077 - Train Accuracy: 0.9371, Validation Accuracy: 0.9190, Loss: 0.0574\n",
      "Epoch  11 Batch  100/1077 - Train Accuracy: 0.9262, Validation Accuracy: 0.9119, Loss: 0.0532\n",
      "Epoch  11 Batch  200/1077 - Train Accuracy: 0.9094, Validation Accuracy: 0.9045, Loss: 0.0811\n",
      "Epoch  11 Batch  300/1077 - Train Accuracy: 0.9264, Validation Accuracy: 0.9020, Loss: 0.0602\n",
      "Epoch  11 Batch  400/1077 - Train Accuracy: 0.9281, Validation Accuracy: 0.9134, Loss: 0.0839\n",
      "Epoch  11 Batch  500/1077 - Train Accuracy: 0.9402, Validation Accuracy: 0.9009, Loss: 0.0606\n",
      "Epoch  11 Batch  600/1077 - Train Accuracy: 0.9334, Validation Accuracy: 0.9240, Loss: 0.0622\n",
      "Epoch  11 Batch  700/1077 - Train Accuracy: 0.9469, Validation Accuracy: 0.9077, Loss: 0.0479\n",
      "Epoch  11 Batch  800/1077 - Train Accuracy: 0.9215, Validation Accuracy: 0.9013, Loss: 0.0621\n",
      "Epoch  11 Batch  900/1077 - Train Accuracy: 0.9332, Validation Accuracy: 0.9055, Loss: 0.0778\n",
      "Epoch  11 Batch 1000/1077 - Train Accuracy: 0.9234, Validation Accuracy: 0.9048, Loss: 0.0661\n",
      "Epoch  12 Batch  100/1077 - Train Accuracy: 0.9371, Validation Accuracy: 0.9151, Loss: 0.0605\n",
      "Epoch  12 Batch  200/1077 - Train Accuracy: 0.9211, Validation Accuracy: 0.9183, Loss: 0.0704\n",
      "Epoch  12 Batch  300/1077 - Train Accuracy: 0.9428, Validation Accuracy: 0.9045, Loss: 0.0629\n",
      "Epoch  12 Batch  400/1077 - Train Accuracy: 0.9297, Validation Accuracy: 0.9155, Loss: 0.0645\n",
      "Epoch  12 Batch  500/1077 - Train Accuracy: 0.9277, Validation Accuracy: 0.9158, Loss: 0.0477\n",
      "Epoch  12 Batch  600/1077 - Train Accuracy: 0.9211, Validation Accuracy: 0.8952, Loss: 0.0683\n",
      "Epoch  12 Batch  700/1077 - Train Accuracy: 0.9125, Validation Accuracy: 0.9052, Loss: 0.0653\n",
      "Epoch  12 Batch  800/1077 - Train Accuracy: 0.9129, Validation Accuracy: 0.9187, Loss: 0.0590\n",
      "Epoch  12 Batch  900/1077 - Train Accuracy: 0.9277, Validation Accuracy: 0.8984, Loss: 0.0550\n",
      "Epoch  12 Batch 1000/1077 - Train Accuracy: 0.9550, Validation Accuracy: 0.8899, Loss: 0.0592\n",
      "Epoch  13 Batch  100/1077 - Train Accuracy: 0.9145, Validation Accuracy: 0.9279, Loss: 0.0500\n",
      "Epoch  13 Batch  200/1077 - Train Accuracy: 0.9313, Validation Accuracy: 0.9208, Loss: 0.0622\n",
      "Epoch  13 Batch  300/1077 - Train Accuracy: 0.9387, Validation Accuracy: 0.9155, Loss: 0.0612\n",
      "Epoch  13 Batch  400/1077 - Train Accuracy: 0.9434, Validation Accuracy: 0.9119, Loss: 0.0635\n",
      "Epoch  13 Batch  500/1077 - Train Accuracy: 0.9402, Validation Accuracy: 0.9265, Loss: 0.0578\n",
      "Epoch  13 Batch  600/1077 - Train Accuracy: 0.9107, Validation Accuracy: 0.9261, Loss: 0.0703\n",
      "Epoch  13 Batch  700/1077 - Train Accuracy: 0.9410, Validation Accuracy: 0.8874, Loss: 0.0521\n",
      "Epoch  13 Batch  800/1077 - Train Accuracy: 0.9465, Validation Accuracy: 0.9240, Loss: 0.0548\n",
      "Epoch  13 Batch  900/1077 - Train Accuracy: 0.9352, Validation Accuracy: 0.8793, Loss: 0.0694\n",
      "Epoch  13 Batch 1000/1077 - Train Accuracy: 0.9446, Validation Accuracy: 0.9052, Loss: 0.0657\n",
      "Epoch  14 Batch  100/1077 - Train Accuracy: 0.9227, Validation Accuracy: 0.9215, Loss: 0.0541\n",
      "Epoch  14 Batch  200/1077 - Train Accuracy: 0.9102, Validation Accuracy: 0.8970, Loss: 0.0677\n",
      "Epoch  14 Batch  300/1077 - Train Accuracy: 0.9470, Validation Accuracy: 0.9077, Loss: 0.0495\n",
      "Epoch  14 Batch  400/1077 - Train Accuracy: 0.9375, Validation Accuracy: 0.9148, Loss: 0.0748\n",
      "Epoch  14 Batch  500/1077 - Train Accuracy: 0.9313, Validation Accuracy: 0.9016, Loss: 0.0562\n",
      "Epoch  14 Batch  600/1077 - Train Accuracy: 0.9230, Validation Accuracy: 0.9190, Loss: 0.0666\n",
      "Epoch  14 Batch  700/1077 - Train Accuracy: 0.9301, Validation Accuracy: 0.8835, Loss: 0.0547\n",
      "Epoch  14 Batch  800/1077 - Train Accuracy: 0.9301, Validation Accuracy: 0.9123, Loss: 0.0624\n",
      "Epoch  14 Batch  900/1077 - Train Accuracy: 0.9449, Validation Accuracy: 0.9016, Loss: 0.0656\n",
      "Epoch  14 Batch 1000/1077 - Train Accuracy: 0.9356, Validation Accuracy: 0.9208, Loss: 0.0530\n",
      "Epoch  15 Batch  100/1077 - Train Accuracy: 0.9047, Validation Accuracy: 0.9276, Loss: 0.0522\n",
      "Epoch  15 Batch  200/1077 - Train Accuracy: 0.9328, Validation Accuracy: 0.8977, Loss: 0.0655\n",
      "Epoch  15 Batch  300/1077 - Train Accuracy: 0.9383, Validation Accuracy: 0.9038, Loss: 0.0714\n",
      "Epoch  15 Batch  400/1077 - Train Accuracy: 0.9258, Validation Accuracy: 0.9009, Loss: 0.0751\n",
      "Epoch  15 Batch  500/1077 - Train Accuracy: 0.9246, Validation Accuracy: 0.9219, Loss: 0.0544\n",
      "Epoch  15 Batch  600/1077 - Train Accuracy: 0.9107, Validation Accuracy: 0.9190, Loss: 0.0674\n",
      "Epoch  15 Batch  700/1077 - Train Accuracy: 0.9262, Validation Accuracy: 0.9119, Loss: 0.0514\n",
      "Epoch  15 Batch  800/1077 - Train Accuracy: 0.9359, Validation Accuracy: 0.9162, Loss: 0.0707\n",
      "Epoch  15 Batch  900/1077 - Train Accuracy: 0.9484, Validation Accuracy: 0.9137, Loss: 0.0699\n",
      "Epoch  15 Batch 1000/1077 - Train Accuracy: 0.9252, Validation Accuracy: 0.9354, Loss: 0.0587\n",
      "Epoch  16 Batch  100/1077 - Train Accuracy: 0.9191, Validation Accuracy: 0.9134, Loss: 0.0651\n",
      "Epoch  16 Batch  200/1077 - Train Accuracy: 0.9164, Validation Accuracy: 0.9084, Loss: 0.0752\n",
      "Epoch  16 Batch  300/1077 - Train Accuracy: 0.9252, Validation Accuracy: 0.9130, Loss: 0.0595\n",
      "Epoch  16 Batch  400/1077 - Train Accuracy: 0.9137, Validation Accuracy: 0.9212, Loss: 0.0800\n",
      "Epoch  16 Batch  500/1077 - Train Accuracy: 0.9437, Validation Accuracy: 0.9020, Loss: 0.0557\n",
      "Epoch  16 Batch  600/1077 - Train Accuracy: 0.9286, Validation Accuracy: 0.9098, Loss: 0.0761\n",
      "Epoch  16 Batch  700/1077 - Train Accuracy: 0.9402, Validation Accuracy: 0.9158, Loss: 0.0625\n",
      "Epoch  16 Batch  800/1077 - Train Accuracy: 0.9262, Validation Accuracy: 0.9087, Loss: 0.0627\n",
      "Epoch  16 Batch  900/1077 - Train Accuracy: 0.9500, Validation Accuracy: 0.9283, Loss: 0.0776\n",
      "Epoch  16 Batch 1000/1077 - Train Accuracy: 0.9345, Validation Accuracy: 0.9130, Loss: 0.0754\n",
      "Epoch  17 Batch  100/1077 - Train Accuracy: 0.9168, Validation Accuracy: 0.9059, Loss: 0.0849\n",
      "Epoch  17 Batch  200/1077 - Train Accuracy: 0.9180, Validation Accuracy: 0.9045, Loss: 0.0723\n",
      "Epoch  17 Batch  300/1077 - Train Accuracy: 0.9420, Validation Accuracy: 0.9247, Loss: 0.0734\n",
      "Epoch  17 Batch  400/1077 - Train Accuracy: 0.9305, Validation Accuracy: 0.8981, Loss: 0.0881\n",
      "Epoch  17 Batch  500/1077 - Train Accuracy: 0.9320, Validation Accuracy: 0.8984, Loss: 0.0600\n",
      "Epoch  17 Batch  600/1077 - Train Accuracy: 0.9144, Validation Accuracy: 0.9187, Loss: 0.0724\n"
     ]
    },
    {
     "name": "stdout",
     "output_type": "stream",
     "text": [
      "Epoch  17 Batch  700/1077 - Train Accuracy: 0.9316, Validation Accuracy: 0.9052, Loss: 0.0543\n",
      "Epoch  17 Batch  800/1077 - Train Accuracy: 0.9320, Validation Accuracy: 0.8967, Loss: 0.0763\n",
      "Epoch  17 Batch  900/1077 - Train Accuracy: 0.9402, Validation Accuracy: 0.8949, Loss: 0.0783\n",
      "Epoch  17 Batch 1000/1077 - Train Accuracy: 0.9208, Validation Accuracy: 0.9176, Loss: 0.0803\n",
      "Epoch  18 Batch  100/1077 - Train Accuracy: 0.9461, Validation Accuracy: 0.9105, Loss: 0.0626\n",
      "Epoch  18 Batch  200/1077 - Train Accuracy: 0.9066, Validation Accuracy: 0.9165, Loss: 0.0889\n",
      "Epoch  18 Batch  300/1077 - Train Accuracy: 0.9474, Validation Accuracy: 0.9006, Loss: 0.0736\n",
      "Epoch  18 Batch  400/1077 - Train Accuracy: 0.9398, Validation Accuracy: 0.9205, Loss: 0.0991\n",
      "Epoch  18 Batch  500/1077 - Train Accuracy: 0.9406, Validation Accuracy: 0.9144, Loss: 0.0687\n",
      "Epoch  18 Batch  600/1077 - Train Accuracy: 0.9260, Validation Accuracy: 0.9041, Loss: 0.0819\n",
      "Epoch  18 Batch  700/1077 - Train Accuracy: 0.9430, Validation Accuracy: 0.8977, Loss: 0.0585\n",
      "Epoch  18 Batch  800/1077 - Train Accuracy: 0.9176, Validation Accuracy: 0.9126, Loss: 0.0726\n",
      "Epoch  18 Batch  900/1077 - Train Accuracy: 0.9336, Validation Accuracy: 0.8931, Loss: 0.0890\n",
      "Epoch  18 Batch 1000/1077 - Train Accuracy: 0.9509, Validation Accuracy: 0.8910, Loss: 0.0578\n",
      "Epoch  19 Batch  100/1077 - Train Accuracy: 0.9207, Validation Accuracy: 0.9165, Loss: 0.0654\n",
      "Epoch  19 Batch  200/1077 - Train Accuracy: 0.9113, Validation Accuracy: 0.9315, Loss: 0.0906\n",
      "Epoch  19 Batch  300/1077 - Train Accuracy: 0.9523, Validation Accuracy: 0.9006, Loss: 0.0700\n",
      "Epoch  19 Batch  400/1077 - Train Accuracy: 0.9195, Validation Accuracy: 0.8967, Loss: 0.0771\n",
      "Epoch  19 Batch  500/1077 - Train Accuracy: 0.9367, Validation Accuracy: 0.9002, Loss: 0.0627\n",
      "Epoch  19 Batch  600/1077 - Train Accuracy: 0.9297, Validation Accuracy: 0.9162, Loss: 0.0710\n",
      "Epoch  19 Batch  700/1077 - Train Accuracy: 0.9477, Validation Accuracy: 0.9155, Loss: 0.0647\n",
      "Epoch  19 Batch  800/1077 - Train Accuracy: 0.9176, Validation Accuracy: 0.9013, Loss: 0.0849\n",
      "Epoch  19 Batch  900/1077 - Train Accuracy: 0.9238, Validation Accuracy: 0.8963, Loss: 0.0709\n",
      "Epoch  19 Batch 1000/1077 - Train Accuracy: 0.9327, Validation Accuracy: 0.9055, Loss: 0.0628\n",
      "Model Trained and Saved\n"
     ]
    }
   ],
   "source": [
    "\"\"\"\n",
    "DON'T MODIFY ANYTHING IN THIS CELL\n",
    "\"\"\"\n",
    "def get_accuracy(target, logits):\n",
    "    \"\"\"\n",
    "    Calculate accuracy\n",
    "    \"\"\"\n",
    "    max_seq = max(target.shape[1], logits.shape[1])\n",
    "    if max_seq - target.shape[1]:\n",
    "        target = np.pad(\n",
    "            target,\n",
    "            [(0,0),(0,max_seq - target.shape[1])],\n",
    "            'constant')\n",
    "    if max_seq - logits.shape[1]:\n",
    "        logits = np.pad(\n",
    "            logits,\n",
    "            [(0,0),(0,max_seq - logits.shape[1])],\n",
    "            'constant')\n",
    "\n",
    "    return np.mean(np.equal(target, logits))\n",
    "\n",
    "# Split data to training and validation sets\n",
    "train_source = source_int_text[batch_size:]\n",
    "train_target = target_int_text[batch_size:]\n",
    "valid_source = source_int_text[:batch_size]\n",
    "valid_target = target_int_text[:batch_size]\n",
    "(valid_sources_batch, valid_targets_batch, valid_sources_lengths, valid_targets_lengths ) = next(get_batches(valid_source,\n",
    "                                                                                                             valid_target,\n",
    "                                                                                                             batch_size,\n",
    "                                                                                                             source_vocab_to_int['<PAD>'],\n",
    "                                                                                                             target_vocab_to_int['<PAD>']))                                                                                                  \n",
    "with tf.Session(graph=train_graph) as sess:\n",
    "    sess.run(tf.global_variables_initializer())\n",
    "\n",
    "    for epoch_i in range(epochs):\n",
    "        for batch_i, (source_batch, target_batch, sources_lengths, targets_lengths) in enumerate(\n",
    "                get_batches(train_source, train_target, batch_size,\n",
    "                            source_vocab_to_int['<PAD>'],\n",
    "                            target_vocab_to_int['<PAD>'])):\n",
    "\n",
    "            _, loss = sess.run(\n",
    "                [train_op, cost],\n",
    "                {input_data: source_batch,\n",
    "                 targets: target_batch,\n",
    "                 lr: learning_rate,\n",
    "                 target_sequence_length: targets_lengths,\n",
    "                 source_sequence_length: sources_lengths,\n",
    "                 keep_prob: keep_probability})\n",
    "\n",
    "\n",
    "            if batch_i % display_step == 0 and batch_i > 0:\n",
    "\n",
    "\n",
    "                batch_train_logits = sess.run(\n",
    "                    inference_logits,\n",
    "                    {input_data: source_batch,\n",
    "                     source_sequence_length: sources_lengths,\n",
    "                     target_sequence_length: targets_lengths,\n",
    "                     keep_prob: 1.0})\n",
    "\n",
    "\n",
    "                batch_valid_logits = sess.run(\n",
    "                    inference_logits,\n",
    "                    {input_data: valid_sources_batch,\n",
    "                     source_sequence_length: valid_sources_lengths,\n",
    "                     target_sequence_length: valid_targets_lengths,\n",
    "                     keep_prob: 1.0})\n",
    "\n",
    "                train_acc = get_accuracy(target_batch, batch_train_logits)\n",
    "\n",
    "                valid_acc = get_accuracy(valid_targets_batch, batch_valid_logits)\n",
    "\n",
    "                print('Epoch {:>3} Batch {:>4}/{} - Train Accuracy: {:>6.4f}, Validation Accuracy: {:>6.4f}, Loss: {:>6.4f}'\n",
    "                      .format(epoch_i, batch_i, len(source_int_text) // batch_size, train_acc, valid_acc, loss))\n",
    "\n",
    "    # Save Model\n",
    "    saver = tf.train.Saver()\n",
    "    saver.save(sess, save_path)\n",
    "    print('Model Trained and Saved')"
   ]
  },
  {
   "cell_type": "markdown",
   "metadata": {},
   "source": [
    "### Save Parameters\n",
    "Save the `batch_size` and `save_path` parameters for inference."
   ]
  },
  {
   "cell_type": "code",
   "execution_count": 19,
   "metadata": {
    "collapsed": true
   },
   "outputs": [],
   "source": [
    "\"\"\"\n",
    "DON'T MODIFY ANYTHING IN THIS CELL\n",
    "\"\"\"\n",
    "# Save parameters for checkpoint\n",
    "helper.save_params(save_path)"
   ]
  },
  {
   "cell_type": "markdown",
   "metadata": {},
   "source": [
    "# Checkpoint"
   ]
  },
  {
   "cell_type": "code",
   "execution_count": 20,
   "metadata": {
    "collapsed": true
   },
   "outputs": [],
   "source": [
    "\"\"\"\n",
    "DON'T MODIFY ANYTHING IN THIS CELL\n",
    "\"\"\"\n",
    "import tensorflow as tf\n",
    "import numpy as np\n",
    "import helper\n",
    "import problem_unittests as tests\n",
    "\n",
    "_, (source_vocab_to_int, target_vocab_to_int), (source_int_to_vocab, target_int_to_vocab) = helper.load_preprocess()\n",
    "load_path = helper.load_params()"
   ]
  },
  {
   "cell_type": "markdown",
   "metadata": {},
   "source": [
    "## Sentence to Sequence\n",
    "To feed a sentence into the model for translation, you first need to preprocess it.  Implement the function `sentence_to_seq()` to preprocess new sentences.\n",
    "\n",
    "- Convert the sentence to lowercase\n",
    "- Convert words into ids using `vocab_to_int`\n",
    " - Convert words not in the vocabulary, to the `<UNK>` word id."
   ]
  },
  {
   "cell_type": "code",
   "execution_count": 21,
   "metadata": {},
   "outputs": [
    {
     "name": "stdout",
     "output_type": "stream",
     "text": [
      "Tests Passed\n"
     ]
    }
   ],
   "source": [
    "def sentence_to_seq(sentence, vocab_to_int):\n",
    "    \"\"\"\n",
    "    Convert a sentence to a sequence of ids\n",
    "    :param sentence: String\n",
    "    :param vocab_to_int: Dictionary to go from the words to an id\n",
    "    :return: List of word ids\n",
    "    \"\"\"\n",
    "    sentence = sentence.lower()\n",
    "    seqs = [vocab_to_int.get(word, vocab_to_int['<UNK>']) for word in sentence.split(' ')]\n",
    "    return seqs\n",
    "\n",
    "\n",
    "\"\"\"\n",
    "DON'T MODIFY ANYTHING IN THIS CELL THAT IS BELOW THIS LINE\n",
    "\"\"\"\n",
    "tests.test_sentence_to_seq(sentence_to_seq)"
   ]
  },
  {
   "cell_type": "markdown",
   "metadata": {},
   "source": [
    "## Translate\n",
    "This will translate `translate_sentence` from English to French."
   ]
  },
  {
   "cell_type": "code",
   "execution_count": 22,
   "metadata": {},
   "outputs": [
    {
     "name": "stdout",
     "output_type": "stream",
     "text": [
      "INFO:tensorflow:Restoring parameters from checkpoints/dev\n",
      "Input\n",
      "  Word Ids:      [187, 138, 119, 96, 178, 195, 99]\n",
      "  English Words: ['he', 'saw', 'a', 'old', 'yellow', 'truck', '.']\n",
      "\n",
      "Prediction\n",
      "  Word Ids:      [252, 57, 224, 90, 299, 161, 35, 136, 1]\n",
      "  French Words: il a vu un vieux camion bleu . <EOS>\n"
     ]
    }
   ],
   "source": [
    "translate_sentence = 'he saw a old yellow truck .'\n",
    "\n",
    "\n",
    "\"\"\"\n",
    "DON'T MODIFY ANYTHING IN THIS CELL\n",
    "\"\"\"\n",
    "translate_sentence = sentence_to_seq(translate_sentence, source_vocab_to_int)\n",
    "\n",
    "loaded_graph = tf.Graph()\n",
    "with tf.Session(graph=loaded_graph) as sess:\n",
    "    # Load saved model\n",
    "    loader = tf.train.import_meta_graph(load_path + '.meta')\n",
    "    loader.restore(sess, load_path)\n",
    "\n",
    "    input_data = loaded_graph.get_tensor_by_name('input:0')\n",
    "    logits = loaded_graph.get_tensor_by_name('predictions:0')\n",
    "    target_sequence_length = loaded_graph.get_tensor_by_name('target_sequence_length:0')\n",
    "    source_sequence_length = loaded_graph.get_tensor_by_name('source_sequence_length:0')\n",
    "    keep_prob = loaded_graph.get_tensor_by_name('keep_prob:0')\n",
    "\n",
    "    translate_logits = sess.run(logits, {input_data: [translate_sentence]*batch_size,\n",
    "                                         target_sequence_length: [len(translate_sentence)*2]*batch_size,\n",
    "                                         source_sequence_length: [len(translate_sentence)]*batch_size,\n",
    "                                         keep_prob: 1.0})[0]\n",
    "\n",
    "print('Input')\n",
    "print('  Word Ids:      {}'.format([i for i in translate_sentence]))\n",
    "print('  English Words: {}'.format([source_int_to_vocab[i] for i in translate_sentence]))\n",
    "\n",
    "print('\\nPrediction')\n",
    "print('  Word Ids:      {}'.format([i for i in translate_logits]))\n",
    "print('  French Words: {}'.format(\" \".join([target_int_to_vocab[i] for i in translate_logits])))\n"
   ]
  },
  {
   "cell_type": "markdown",
   "metadata": {},
   "source": [
    "## Imperfect Translation\n",
    "You might notice that some sentences translate better than others.  Since the dataset you're using only has a vocabulary of 227 English words of the thousands that you use, you're only going to see good results using these words.  For this project, you don't need a perfect translation. However, if you want to create a better translation model, you'll need better data.\n",
    "\n",
    "You can train on the [WMT10 French-English corpus](http://www.statmt.org/wmt10/training-giga-fren.tar).  This dataset has more vocabulary and richer in topics discussed.  However, this will take you days to train, so make sure you've a GPU and the neural network is performing well on dataset we provided.  Just make sure you play with the WMT10 corpus after you've submitted this project.\n",
    "## Submitting This Project\n",
    "When submitting this project, make sure to run all the cells before saving the notebook. Save the notebook file as \"dlnd_language_translation.ipynb\" and save it as a HTML file under \"File\" -> \"Download as\". Include the \"helper.py\" and \"problem_unittests.py\" files in your submission."
   ]
  }
 ],
 "metadata": {
  "anaconda-cloud": {},
  "kernelspec": {
   "display_name": "Python [conda env:py3]",
   "language": "python",
   "name": "conda-env-py3-py"
  },
  "language_info": {
   "codemirror_mode": {
    "name": "ipython",
    "version": 3
   },
   "file_extension": ".py",
   "mimetype": "text/x-python",
   "name": "python",
   "nbconvert_exporter": "python",
   "pygments_lexer": "ipython3",
   "version": "3.6.1"
  }
 },
 "nbformat": 4,
 "nbformat_minor": 1
}
